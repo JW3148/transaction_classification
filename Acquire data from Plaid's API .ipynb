{
 "cells": [
  {
   "cell_type": "markdown",
   "metadata": {},
   "source": [
    "Acquire transaction dataset\n",
    "==============\n",
    "\n",
    "\n",
    "I start this project by searching for some online open dataset related to bank transaction. Unfortunately, I was not able find an available dataset ready to use. It was not a suprise given that bank transactions are highly sensitive data. Therefore, as a starting point, I decided to used my own bank transactions from the last two years. First of all, I need to find a secure way to extract my transaction programmaly and can be easily automated. Here are some options I found through internet.\n",
    "\n",
    "\n",
    "**Third Party Aggregator - developer API：**\n",
    "There are a number of bank/investment account data providers, these company request bank transaction data on behalf of their users. Most of these providers untilize some combination of direct bank access (for large institutions) and screen scraping (for institution don't have or provide directly access). The services I looked into were Yodlee, Intuit, MX and Plaid. Among which, Yodlee apears to mostly widely used provider. It provides a free developer sandbox access with update to 5 live users. Plaid, on the other hand, is a newer provider. The also provide free developer access, with connections available for up to 100 live accounts, which certainly sounds more attractive than Yodlee. The other thing I like about Plaid is that they have great documentation and provide a nice interface to Python. Intuit used to privide similar aggregation servers but it discontinued its Financial Data APIs (formerly known as CAD) in 2016. MX provides similar aggregation services, I was not able to find a free developer access from the website.\n",
    "\n",
    "\n",
    "**Open Financial Exchange(OFX) API：**\n",
    "OFX is an open standard for client-server systems and cloud based APIs for exchanging financial data. According to the main OFX site(http://www.ofx.net/), \"The specification is freely licensed, allowing any software developer to design an interface that will be supported on the front-end.\" There are a few Python script/tool to do this, basically, you will find the right configure of your bank and download the financial data in OFX format(simliar to XML) and then parse the file. I didn't try this option out. Here is a available tutorial https://thefinancebuff.com/replacing-microsoft-money-part-5-ofx-scripts.html.\n",
    "\n",
    "\n",
    "\n",
    "Implemetation with Plaid\n",
    "---\n",
    "I decided to go with Plaid API as it has a nice free developer access and nice technique documentations. The following section  demonstrated an approach to extract your bank transactions programmably using Python. In order to use Plaied, you  need to create an account with Plaid (https://plaid.com/). Once you have an account, choose 'Build in the Plaid Development Environment' and apply a developer API key, this may take several days to be approved. From Plaid's documentation, the development environment supports live credentials and data for every institution Plaid supports. The maximum amount of unique live credential sets that may be linked is 100. credential sets refers to the login credential you use to login to your bank's online banking site.\n",
    "\n",
    "The figure below represent a high level flow of how this worked. Plaid will extract bank transactions from your banks. Once Plaid verified a bank connection with you own online banking credential for one of your bank, then you can use a unique access token, along with the API key to download transaction for that institution. You can use the same process to download transaction from other banks that you have an account. After transactions are extracted, I stored them into a collection in MongoDB for further analaysis and modeling."
   ]
  },
  {
   "cell_type": "markdown",
   "metadata": {},
   "source": [
    "![title](img/ETL.png)"
   ]
  },
  {
   "cell_type": "markdown",
   "metadata": {},
   "source": [
    "**Get AccessToken for your bank:**\n",
    "Follow the quick start guide from Plaid (https://github.com/plaid/quickstart/tree/master/python). Note that you need to updaet your Plaid API keys (client ID, secret, public_key) in server.py. After you have successfully connected a account, go back to your command line window, and copy the access_token"
   ]
  },
  {
   "cell_type": "code",
   "execution_count": null,
   "metadata": {
    "collapsed": true
   },
   "outputs": [],
   "source": [
    "from plaid import Client\n",
    "\n",
    "# Available environments are 'sandbox', 'development', and 'production'.\n",
    "client = Client(client_id='', secret='', public_key='', environment='sandbox')\n",
    "# assess_token from Plaid Link\n",
    "access_token=''"
   ]
  },
  {
   "cell_type": "markdown",
   "metadata": {},
   "source": [
    "**Get transactions with API key and access_token:** Be aware that Plaid will not be able to get all your historical transactions. For example, I couldn't get my transactions in 2015. The amount of data come back differs from bank to bank."
   ]
  },
  {
   "cell_type": "code",
   "execution_count": 95,
   "metadata": {
    "collapsed": true
   },
   "outputs": [],
   "source": [
    "response = client.Transactions.get(access_token, start_date='2013-07-12', end_date='2018-01-19')\n",
    "transactions = response['transactions']\n",
    "\n",
    "# the transactions in the response are paginated, so make multiple calls while increasing the offset to\n",
    "# retrieve all transactions\n",
    "while len(transactions) < response['total_transactions']:\n",
    "    response = client.Transactions.get(access_token, start_date='2013-07-12', end_date='2018-01-21',\n",
    "                                       offset=len(transactions)\n",
    "                                      )\n",
    "    transactions.extend(response['transactions'])\n",
    "    \n",
    "Category = client.Categories.get()   "
   ]
  },
  {
   "cell_type": "markdown",
   "metadata": {},
   "source": [
    "Below is an example transaction downloaded. It's a json format document with varies key values pairs that describe a transaction. The data points I'm interested in are name, date, amount. It indicates that I spent $14.15 at 'MR BING VANDERBILT LL' on Jan 19 2018 - It was my lunch. Note that here Plaid also returns the category. It appears for this transaction it could confidently determine the category."
   ]
  },
  {
   "cell_type": "markdown",
   "metadata": {},
   "source": [
    "```json\n",
    "{\n",
    "    \"account_owner\": null, \n",
    "    \"category\": null, \n",
    "    \"account_id\": \"4R0myMYJNwfbDJqNrnexHV3B35KVQYf0bN389\", \n",
    "    \"pending_transaction_id\": \"JjNPVdKryLILJzqdgE0vcLdPy79YqYtgwoyqv\", \n",
    "    \"transaction_id\": \"DyEdbM1kOmhbXaw0Y7gAumQ5Lx8DZRIoDv3nD\", \n",
    "    \"transaction_type\": \"unresolved\", \n",
    "    \"amount\": 14.15, \n",
    "    \"location\": {\n",
    "        \"city\": null, \n",
    "        \"zip\": null, \n",
    "        \"store_number\": null, \n",
    "        \"lon\": null, \n",
    "        \"state\": null, \n",
    "        \"address\": null, \n",
    "        \"lat\": null\n",
    "    }, \n",
    "    \"payment_meta\": {\n",
    "        \"reference_number\": null, \n",
    "        \"payer\": null, \n",
    "        \"payment_method\": null, \n",
    "        \"reason\": null, \n",
    "        \"payee\": null, \n",
    "        \"ppd_id\": null, \n",
    "        \"payment_processor\": \"Square\", \n",
    "        \"by_order_of\": null\n",
    "    }, \n",
    "    \"date\": \"2018-01-19\", \n",
    "    \"category_id\": null, \n",
    "    \"pending\": false, \n",
    "    \"name\": \"MR BING VANDERBILT LL\"\n",
    "}\n",
    "```"
   ]
  },
  {
   "cell_type": "markdown",
   "metadata": {},
   "source": [
    "**Load the data into MongoDB:** finally, I'll dump the transactions into my local Mongo instance. It'll be more convenient to analyse and explore json data with Mongo queries."
   ]
  },
  {
   "cell_type": "code",
   "execution_count": 89,
   "metadata": {
    "collapsed": true
   },
   "outputs": [],
   "source": [
    "##from json import dumps\n",
    "##print dumps(transactions,indent=4)\n",
    "\n",
    "from pymongo import MongoClient\n",
    "mongoclient = MongoClient('localhost')\n",
    "##Mongoclient.database_names()\n",
    "db = mongoclient['bankdata']\n",
    "new_result = db.transactions.insert_many(transactions)\n",
    "##new_result = db.category.insert_many(Category['categories'])"
   ]
  },
  {
   "cell_type": "markdown",
   "metadata": {
    "collapsed": true
   },
   "source": [
    "The data is now in 'transactions' collection under database 'bankdata' in my local mongodb instance. I have around 1600 transactions.It's not a lot of data but it's something enough for me to start this project."
   ]
  }
 ],
 "metadata": {
  "celltoolbar": "Raw Cell Format",
  "kernelspec": {
   "display_name": "Python 3",
   "language": "python",
   "name": "python3"
  },
  "language_info": {
   "codemirror_mode": {
    "name": "ipython",
    "version": 3
   },
   "file_extension": ".py",
   "mimetype": "text/x-python",
   "name": "python",
   "nbconvert_exporter": "python",
   "pygments_lexer": "ipython3",
   "version": "3.6.1"
  }
 },
 "nbformat": 4,
 "nbformat_minor": 2
}
