{
 "cells": [
  {
   "cell_type": "markdown",
   "metadata": {},
   "source": [
    "Baseline Model - Multi Class Logistic Regression\n",
    "===\n",
    "I started by fitting a multi-class logistic regression on the data, which is served as a baseline model before exploring more options. The logistic regression baseline model will give me a general idea of how the dataset can help to label the transactions and what are the potential issues."
   ]
  },
  {
   "cell_type": "code",
   "execution_count": 1,
   "metadata": {
    "collapsed": true,
    "scrolled": true
   },
   "outputs": [],
   "source": [
    "import pandas as pd\n",
    "import numpy as np\n",
    "import seaborn as sns\n",
    "import re\n",
    "import nltk\n",
    "from sklearn.feature_extraction.text import CountVectorizer\n",
    "from sklearn.multiclass import OneVsRestClassifier\n",
    "from sklearn.multiclass import OneVsOneClassifier\n",
    "from sklearn.linear_model import LogisticRegression\n",
    "from nltk.corpus import stopwords\n",
    "from pymongo import MongoClient"
   ]
  },
  {
   "cell_type": "code",
   "execution_count": 2,
   "metadata": {
    "scrolled": true
   },
   "outputs": [
    {
     "name": "stdout",
     "output_type": "stream",
     "text": [
      "[nltk_data] Downloading package stopwords to\n",
      "[nltk_data]     C:\\Users\\jiahe_000\\AppData\\Roaming\\nltk_data...\n",
      "[nltk_data]   Package stopwords is already up-to-date!\n"
     ]
    },
    {
     "data": {
      "text/plain": [
       "True"
      ]
     },
     "execution_count": 2,
     "metadata": {},
     "output_type": "execute_result"
    }
   ],
   "source": [
    "nltk.download('stopwords')"
   ]
  },
  {
   "cell_type": "markdown",
   "metadata": {},
   "source": [
    "As usual, I extract data from my local MongoDB instance with the help of pymongo library. I extracted amount, data, name and category into a pandas dataframe as a start point. See below for a few lines of the data."
   ]
  },
  {
   "cell_type": "code",
   "execution_count": 41,
   "metadata": {
    "scrolled": true
   },
   "outputs": [
    {
     "data": {
      "text/html": [
       "<div>\n",
       "<style>\n",
       "    .dataframe thead tr:only-child th {\n",
       "        text-align: right;\n",
       "    }\n",
       "\n",
       "    .dataframe thead th {\n",
       "        text-align: left;\n",
       "    }\n",
       "\n",
       "    .dataframe tbody tr th {\n",
       "        vertical-align: top;\n",
       "    }\n",
       "</style>\n",
       "<table border=\"1\" class=\"dataframe\">\n",
       "  <thead>\n",
       "    <tr style=\"text-align: right;\">\n",
       "      <th></th>\n",
       "      <th>_id</th>\n",
       "      <th>amount</th>\n",
       "      <th>category</th>\n",
       "      <th>date</th>\n",
       "      <th>name</th>\n",
       "    </tr>\n",
       "  </thead>\n",
       "  <tbody>\n",
       "    <tr>\n",
       "      <th>0</th>\n",
       "      <td>5a654374671a0b45285f30de</td>\n",
       "      <td>14.15</td>\n",
       "      <td>Food and Drink</td>\n",
       "      <td>2018-01-19</td>\n",
       "      <td>MR BING VANDERBILT LL</td>\n",
       "    </tr>\n",
       "    <tr>\n",
       "      <th>1</th>\n",
       "      <td>5a654374671a0b45285f30df</td>\n",
       "      <td>18.00</td>\n",
       "      <td>Transfer</td>\n",
       "      <td>2018-01-19</td>\n",
       "      <td>QuickPay with Zelle payment to John Sheu 68370...</td>\n",
       "    </tr>\n",
       "    <tr>\n",
       "      <th>2</th>\n",
       "      <td>5a654374671a0b45285f30e0</td>\n",
       "      <td>50.00</td>\n",
       "      <td>Shops</td>\n",
       "      <td>2018-01-17</td>\n",
       "      <td>Sephora</td>\n",
       "    </tr>\n",
       "    <tr>\n",
       "      <th>3</th>\n",
       "      <td>5a654374671a0b45285f30e1</td>\n",
       "      <td>40.00</td>\n",
       "      <td>Transfer</td>\n",
       "      <td>2018-01-16</td>\n",
       "      <td>ATM WITHDRAWAL 007235 01/16530 5TH A</td>\n",
       "    </tr>\n",
       "    <tr>\n",
       "      <th>4</th>\n",
       "      <td>5a654374671a0b45285f30e2</td>\n",
       "      <td>404.98</td>\n",
       "      <td>Service</td>\n",
       "      <td>2018-01-16</td>\n",
       "      <td>Nissan Auto Loan 0010248429968 WEB ID: 9782464003</td>\n",
       "    </tr>\n",
       "  </tbody>\n",
       "</table>\n",
       "</div>"
      ],
      "text/plain": [
       "                        _id  amount        category        date  \\\n",
       "0  5a654374671a0b45285f30de   14.15  Food and Drink  2018-01-19   \n",
       "1  5a654374671a0b45285f30df   18.00        Transfer  2018-01-19   \n",
       "2  5a654374671a0b45285f30e0   50.00           Shops  2018-01-17   \n",
       "3  5a654374671a0b45285f30e1   40.00        Transfer  2018-01-16   \n",
       "4  5a654374671a0b45285f30e2  404.98         Service  2018-01-16   \n",
       "\n",
       "                                                name  \n",
       "0                              MR BING VANDERBILT LL  \n",
       "1  QuickPay with Zelle payment to John Sheu 68370...  \n",
       "2                                            Sephora  \n",
       "3               ATM WITHDRAWAL 007235 01/16530 5TH A  \n",
       "4  Nissan Auto Loan 0010248429968 WEB ID: 9782464003  "
      ]
     },
     "execution_count": 41,
     "metadata": {},
     "output_type": "execute_result"
    }
   ],
   "source": [
    "mongoclient = MongoClient('localhost')\n",
    "##Mongoclient.database_names()\n",
    "db = mongoclient['bankdata']\n",
    "\n",
    "##Get name, amount, date\n",
    "transactions = pd.DataFrame(list(db.transactions.find({},{\"name\":1,\"amount\":1,\"date\":1,\"category\":1})))\n",
    "transactions.head(5)"
   ]
  },
  {
   "cell_type": "markdown",
   "metadata": {},
   "source": [
    "Feature Engineering with bag of words\n",
    "---\n",
    "To fast prototype my baseline model, I choose to use a common approach in text analytics 'bag of words' to transform the transaction name into a vector of word count.\n",
    "\n",
    "**Data cleaning:** a function 'name_to_words' is defined to clean up the data. It does three things: a) remove numbers in the transaction name text, as they don't contain much prediction power. For example in name 'ATM WITHDRAWAL 007235 01/16530 5TH A', the number '007235' can be assumed to be noises in the data; b) remove stop words; c) convert all letters into lower case."
   ]
  },
  {
   "cell_type": "code",
   "execution_count": 5,
   "metadata": {
    "collapsed": true,
    "scrolled": true
   },
   "outputs": [],
   "source": [
    "def name_to_words( raw_name ):\n",
    "    # Function to convert a raw name to a string of words\n",
    "    # The input is a single string (a raw transaction name), and \n",
    "    # the output is a single string (a preprocessed transaction name)\n",
    "    #\n",
    "    # Remove non-letters        \n",
    "    ##letters_only = re.sub(\"[^a-zA-Z]\", \" \", raw_name)\n",
    "    letters_only = re.sub(\"\\S*\\d\\S*\", \"\", raw_name)\n",
    "    # Convert to lower case\n",
    "    words = letters_only.lower().split()        \n",
    "    \n",
    "    stops = set(stopwords.words(\"english\"))                  \n",
    "    # \n",
    "    # Remove stop words\n",
    "    meaningful_words = [w for w in words if not w in stops]   \n",
    "    #\n",
    "    # Join the words back into one string separated by space, \n",
    "    # and return the result.\n",
    "    return( \" \".join( meaningful_words ))   "
   ]
  },
  {
   "cell_type": "markdown",
   "metadata": {},
   "source": [
    "Here is a example of applying 'name_to_word' function to a transaction name. Note that how the text is clean up after applying the function."
   ]
  },
  {
   "cell_type": "code",
   "execution_count": 104,
   "metadata": {
    "scrolled": true
   },
   "outputs": [
    {
     "data": {
      "text/plain": [
       "'atm withdrawal'"
      ]
     },
     "execution_count": 104,
     "metadata": {},
     "output_type": "execute_result"
    }
   ],
   "source": [
    "name_to_words(\"ATM WITHDRAWAL 007235 01/16530 5TH A\")"
   ]
  },
  {
   "cell_type": "code",
   "execution_count": 42,
   "metadata": {
    "collapsed": true,
    "scrolled": true
   },
   "outputs": [],
   "source": [
    "num_trans = transactions[\"name\"].size\n",
    "\n",
    "# Initialize an empty list to hold the clean reviews\n",
    "clean_name = []\n",
    "\n",
    "for i in xrange( 0, num_trans ):\n",
    "    # Call our function for each one, and add the result to the list of clean names\n",
    "    clean_name.append( name_to_words( transactions[\"name\"][i] ) )\n",
    "\n",
    "transactions['clean_name'] = clean_name"
   ]
  },
  {
   "cell_type": "markdown",
   "metadata": {
    "collapsed": true,
    "scrolled": true
   },
   "source": [
    "**Bag-of-words model:** Now I convert the cleaned version of transaction name into a numberical vector, with the help of 'CountVectorizer' from sklean library."
   ]
  },
  {
   "cell_type": "code",
   "execution_count": 43,
   "metadata": {
    "scrolled": true
   },
   "outputs": [],
   "source": [
    "vectorizer = CountVectorizer(analyzer = \"word\",   \\\n",
    "                             tokenizer = None,    \\\n",
    "                             preprocessor = None, \\\n",
    "                             stop_words = None,   \\\n",
    "                             ) \n",
    "bow_features = vectorizer.fit_transform(clean_name)\n",
    "\n",
    "vocab = vectorizer.get_feature_names()\n",
    "bow_features = pd.DataFrame(bow_features.toarray())\n",
    "bow_features.columns = vocab"
   ]
  },
  {
   "cell_type": "markdown",
   "metadata": {},
   "source": [
    "Multi Class Logistic Regression- One vs rest \n",
    "---\n",
    "**Split data into training set and testing set:** I randomly select 50% of the records as traning data, and the rest to be the testing data."
   ]
  },
  {
   "cell_type": "code",
   "execution_count": 45,
   "metadata": {
    "scrolled": true
   },
   "outputs": [
    {
     "name": "stdout",
     "output_type": "stream",
     "text": [
      "(790, 562)\n",
      "(790L,)\n",
      "(784, 562)\n",
      "(784L,)\n"
     ]
    }
   ],
   "source": [
    "np.random.seed(0)\n",
    "num_trans = transactions[\"_id\"].size\n",
    "split_list = np.random.uniform(0,1,num_trans)\n",
    "p=0.5\n",
    "train_x = bow_features[split_list < p]\n",
    "test_x = bow_features[split_list >= p]\n",
    "train_y = transactions[\"category\"][split_list < p]\n",
    "test_y = transactions[\"category\"][split_list >= p]\n",
    "\n",
    "print train_x.shape\n",
    "print train_y.shape\n",
    "\n",
    "print test_x.shape\n",
    "print test_y.shape"
   ]
  },
  {
   "cell_type": "markdown",
   "metadata": {},
   "source": [
    "**Logistic regression**: I used both 'One vs rest' and 'One vs one' classifier. It turned out that logistic regression performs very well on the test set. The 'One vs rest' model achieved an overall accuracy level of 91%, which is slightly higher than the 'One vs one accuracy' model."
   ]
  },
  {
   "cell_type": "code",
   "execution_count": 46,
   "metadata": {
    "scrolled": false
   },
   "outputs": [
    {
     "name": "stdout",
     "output_type": "stream",
     "text": [
      "One vs rest accuracy: 0.912\n",
      "One vs one accuracy: 0.904\n"
     ]
    }
   ],
   "source": [
    "OVR = OneVsRestClassifier(LogisticRegression()).fit(train_x,train_y)\n",
    "OVO = OneVsOneClassifier(LogisticRegression()).fit(train_x,train_y)\n",
    "print 'One vs rest accuracy: %.3f' % OVR.score(test_x,test_y)\n",
    "print 'One vs one accuracy: %.3f' % OVO.score(test_x,test_y)"
   ]
  },
  {
   "cell_type": "markdown",
   "metadata": {},
   "source": [
    "Interpret the result of Logistic Regression\n",
    "---\n",
    "\n",
    "Now let's take a look of the missclassified transactions. The model seems tend to classify the transaction to 'Food and Drink' or 'Shops'. For example it missclassifies the transaction 'udemy online courses' to 'Shops', which it should really be 'Education'. The marginal probability(One vs rest) of the class 'Shops' is 20.8%, which is the highest among all classes. The probability for 'Education' is 11.3%. Note that 'Food and Drink' has a probability of 15%.\n",
    "\n",
    "This kind of behaviour is not a big surprise because 'Food and Drink' and 'Shops' are the most frequent transaction class in our traning set, so this might be a result of unbalanced data"
   ]
  },
  {
   "cell_type": "code",
   "execution_count": 185,
   "metadata": {
    "scrolled": false
   },
   "outputs": [
    {
     "data": {
      "text/html": [
       "<div>\n",
       "<style>\n",
       "    .dataframe thead tr:only-child th {\n",
       "        text-align: right;\n",
       "    }\n",
       "\n",
       "    .dataframe thead th {\n",
       "        text-align: left;\n",
       "    }\n",
       "\n",
       "    .dataframe tbody tr th {\n",
       "        vertical-align: top;\n",
       "    }\n",
       "</style>\n",
       "<table border=\"1\" class=\"dataframe\">\n",
       "  <thead>\n",
       "    <tr style=\"text-align: right;\">\n",
       "      <th></th>\n",
       "      <th>_id</th>\n",
       "      <th>clean_name</th>\n",
       "      <th>category</th>\n",
       "      <th>predicted_category</th>\n",
       "      <th>Bank Fees</th>\n",
       "      <th>Education</th>\n",
       "      <th>Food and Drink</th>\n",
       "      <th>Grocery</th>\n",
       "      <th>Healthcare</th>\n",
       "      <th>Interest</th>\n",
       "      <th>Payment</th>\n",
       "      <th>Payroll</th>\n",
       "      <th>Recreation</th>\n",
       "      <th>Service</th>\n",
       "      <th>Shops</th>\n",
       "      <th>Transfer</th>\n",
       "      <th>Travel</th>\n",
       "    </tr>\n",
       "  </thead>\n",
       "  <tbody>\n",
       "    <tr>\n",
       "      <th>2</th>\n",
       "      <td>5a654374671a0b45285f30e0</td>\n",
       "      <td>sephora</td>\n",
       "      <td>Shops</td>\n",
       "      <td>Food and Drink</td>\n",
       "      <td>0.014770</td>\n",
       "      <td>0.033324</td>\n",
       "      <td>0.308341</td>\n",
       "      <td>0.074088</td>\n",
       "      <td>0.026964</td>\n",
       "      <td>0.018875</td>\n",
       "      <td>0.032242</td>\n",
       "      <td>0.019066</td>\n",
       "      <td>0.030791</td>\n",
       "      <td>0.056253</td>\n",
       "      <td>0.184577</td>\n",
       "      <td>0.068889</td>\n",
       "      <td>0.131820</td>\n",
       "    </tr>\n",
       "    <tr>\n",
       "      <th>7</th>\n",
       "      <td>5a654374671a0b45285f30e8</td>\n",
       "      <td>udemy online courses</td>\n",
       "      <td>Education</td>\n",
       "      <td>Shops</td>\n",
       "      <td>0.014960</td>\n",
       "      <td>0.113926</td>\n",
       "      <td>0.150785</td>\n",
       "      <td>0.051892</td>\n",
       "      <td>0.024122</td>\n",
       "      <td>0.015483</td>\n",
       "      <td>0.060869</td>\n",
       "      <td>0.104393</td>\n",
       "      <td>0.026755</td>\n",
       "      <td>0.035936</td>\n",
       "      <td>0.207516</td>\n",
       "      <td>0.116557</td>\n",
       "      <td>0.076806</td>\n",
       "    </tr>\n",
       "    <tr>\n",
       "      <th>14</th>\n",
       "      <td>5a654374671a0b45285f30f2</td>\n",
       "      <td>annual membership fee</td>\n",
       "      <td>Bank Fees</td>\n",
       "      <td>Food and Drink</td>\n",
       "      <td>0.183565</td>\n",
       "      <td>0.032661</td>\n",
       "      <td>0.219493</td>\n",
       "      <td>0.067044</td>\n",
       "      <td>0.026820</td>\n",
       "      <td>0.019152</td>\n",
       "      <td>0.031678</td>\n",
       "      <td>0.019335</td>\n",
       "      <td>0.030354</td>\n",
       "      <td>0.052570</td>\n",
       "      <td>0.144774</td>\n",
       "      <td>0.062904</td>\n",
       "      <td>0.109649</td>\n",
       "    </tr>\n",
       "    <tr>\n",
       "      <th>17</th>\n",
       "      <td>5a654374671a0b45285f30f7</td>\n",
       "      <td>papyrus world trade c</td>\n",
       "      <td>Shops</td>\n",
       "      <td>Food and Drink</td>\n",
       "      <td>0.014770</td>\n",
       "      <td>0.033324</td>\n",
       "      <td>0.308341</td>\n",
       "      <td>0.074088</td>\n",
       "      <td>0.026964</td>\n",
       "      <td>0.018875</td>\n",
       "      <td>0.032242</td>\n",
       "      <td>0.019066</td>\n",
       "      <td>0.030791</td>\n",
       "      <td>0.056253</td>\n",
       "      <td>0.184577</td>\n",
       "      <td>0.068889</td>\n",
       "      <td>0.131820</td>\n",
       "    </tr>\n",
       "    <tr>\n",
       "      <th>21</th>\n",
       "      <td>5a654374671a0b45285f30ff</td>\n",
       "      <td></td>\n",
       "      <td>Travel</td>\n",
       "      <td>Food and Drink</td>\n",
       "      <td>0.014770</td>\n",
       "      <td>0.033324</td>\n",
       "      <td>0.308341</td>\n",
       "      <td>0.074088</td>\n",
       "      <td>0.026964</td>\n",
       "      <td>0.018875</td>\n",
       "      <td>0.032242</td>\n",
       "      <td>0.019066</td>\n",
       "      <td>0.030791</td>\n",
       "      <td>0.056253</td>\n",
       "      <td>0.184577</td>\n",
       "      <td>0.068889</td>\n",
       "      <td>0.131820</td>\n",
       "    </tr>\n",
       "  </tbody>\n",
       "</table>\n",
       "</div>"
      ],
      "text/plain": [
       "                         _id             clean_name   category  \\\n",
       "2   5a654374671a0b45285f30e0                sephora      Shops   \n",
       "7   5a654374671a0b45285f30e8   udemy online courses  Education   \n",
       "14  5a654374671a0b45285f30f2  annual membership fee  Bank Fees   \n",
       "17  5a654374671a0b45285f30f7  papyrus world trade c      Shops   \n",
       "21  5a654374671a0b45285f30ff                            Travel   \n",
       "\n",
       "   predicted_category  Bank Fees  Education  Food and Drink   Grocery  \\\n",
       "2      Food and Drink   0.014770   0.033324        0.308341  0.074088   \n",
       "7               Shops   0.014960   0.113926        0.150785  0.051892   \n",
       "14     Food and Drink   0.183565   0.032661        0.219493  0.067044   \n",
       "17     Food and Drink   0.014770   0.033324        0.308341  0.074088   \n",
       "21     Food and Drink   0.014770   0.033324        0.308341  0.074088   \n",
       "\n",
       "    Healthcare  Interest   Payment   Payroll  Recreation   Service     Shops  \\\n",
       "2     0.026964  0.018875  0.032242  0.019066    0.030791  0.056253  0.184577   \n",
       "7     0.024122  0.015483  0.060869  0.104393    0.026755  0.035936  0.207516   \n",
       "14    0.026820  0.019152  0.031678  0.019335    0.030354  0.052570  0.144774   \n",
       "17    0.026964  0.018875  0.032242  0.019066    0.030791  0.056253  0.184577   \n",
       "21    0.026964  0.018875  0.032242  0.019066    0.030791  0.056253  0.184577   \n",
       "\n",
       "    Transfer    Travel  \n",
       "2   0.068889  0.131820  \n",
       "7   0.116557  0.076806  \n",
       "14  0.062904  0.109649  \n",
       "17  0.068889  0.131820  \n",
       "21  0.068889  0.131820  "
      ]
     },
     "execution_count": 185,
     "metadata": {},
     "output_type": "execute_result"
    }
   ],
   "source": [
    "predictions = OVR.predict(test_x)\n",
    "prob = pd.DataFrame(OVR.predict_proba(test_x),columns = OVR.classes_)\n",
    "\n",
    "test = transactions[[\"_id\",\"clean_name\",\"category\"]][split_list >= p]\n",
    "test[\"predicted_category\"] = predictions\n",
    "##test_result = pd.concat([test, prob], axis=1)\n",
    "test.index = pd.RangeIndex(len(test.index))\n",
    "test_result = test.merge(prob, left_index=True, right_index=True)\n",
    "\n",
    "test_error = test_result[test['predicted_category'] != test['category']]\n",
    "test_error.head(5)\n",
    "##test_error.to_clipboard()"
   ]
  },
  {
   "cell_type": "markdown",
   "metadata": {},
   "source": [
    "The above table shows the some examples of missclassification. It also include the marginal probability for each class. As mentioned above, the model tend to predict uncertain transactions into 'Food and Drink', which can be a result of unblanced data. Note that out of 69 missclassified transactions, 50 of them are classified as 'Food and Drink' !"
   ]
  },
  {
   "cell_type": "markdown",
   "metadata": {},
   "source": [
    "**Visualize the result:**"
   ]
  },
  {
   "cell_type": "code",
   "execution_count": 190,
   "metadata": {},
   "outputs": [
    {
     "data": {
      "text/html": [
       "<div>\n",
       "<style>\n",
       "    .dataframe thead tr:only-child th {\n",
       "        text-align: right;\n",
       "    }\n",
       "\n",
       "    .dataframe thead th {\n",
       "        text-align: left;\n",
       "    }\n",
       "\n",
       "    .dataframe tbody tr th {\n",
       "        vertical-align: top;\n",
       "    }\n",
       "</style>\n",
       "<table border=\"1\" class=\"dataframe\">\n",
       "  <thead>\n",
       "    <tr style=\"text-align: right;\">\n",
       "      <th>predicted_category</th>\n",
       "      <th>Bank Fees</th>\n",
       "      <th>Education</th>\n",
       "      <th>Food and Drink</th>\n",
       "      <th>Grocery</th>\n",
       "      <th>Healthcare</th>\n",
       "      <th>Interest</th>\n",
       "      <th>Payment</th>\n",
       "      <th>Payroll</th>\n",
       "      <th>Recreation</th>\n",
       "      <th>Service</th>\n",
       "      <th>Shops</th>\n",
       "      <th>Tax</th>\n",
       "      <th>Transfer</th>\n",
       "      <th>Travel</th>\n",
       "    </tr>\n",
       "    <tr>\n",
       "      <th>category</th>\n",
       "      <th></th>\n",
       "      <th></th>\n",
       "      <th></th>\n",
       "      <th></th>\n",
       "      <th></th>\n",
       "      <th></th>\n",
       "      <th></th>\n",
       "      <th></th>\n",
       "      <th></th>\n",
       "      <th></th>\n",
       "      <th></th>\n",
       "      <th></th>\n",
       "      <th></th>\n",
       "      <th></th>\n",
       "    </tr>\n",
       "  </thead>\n",
       "  <tbody>\n",
       "    <tr>\n",
       "      <th>Bank Fees</th>\n",
       "      <td>0</td>\n",
       "      <td>0</td>\n",
       "      <td>1</td>\n",
       "      <td>0</td>\n",
       "      <td>0</td>\n",
       "      <td>0</td>\n",
       "      <td>0</td>\n",
       "      <td>0</td>\n",
       "      <td>0</td>\n",
       "      <td>0</td>\n",
       "      <td>0</td>\n",
       "      <td>0</td>\n",
       "      <td>0</td>\n",
       "      <td>0</td>\n",
       "    </tr>\n",
       "    <tr>\n",
       "      <th>Education</th>\n",
       "      <td>0</td>\n",
       "      <td>13</td>\n",
       "      <td>1</td>\n",
       "      <td>0</td>\n",
       "      <td>0</td>\n",
       "      <td>0</td>\n",
       "      <td>0</td>\n",
       "      <td>0</td>\n",
       "      <td>0</td>\n",
       "      <td>0</td>\n",
       "      <td>2</td>\n",
       "      <td>0</td>\n",
       "      <td>0</td>\n",
       "      <td>1</td>\n",
       "    </tr>\n",
       "    <tr>\n",
       "      <th>Food and Drink</th>\n",
       "      <td>0</td>\n",
       "      <td>0</td>\n",
       "      <td>201</td>\n",
       "      <td>0</td>\n",
       "      <td>0</td>\n",
       "      <td>0</td>\n",
       "      <td>0</td>\n",
       "      <td>0</td>\n",
       "      <td>0</td>\n",
       "      <td>1</td>\n",
       "      <td>1</td>\n",
       "      <td>0</td>\n",
       "      <td>0</td>\n",
       "      <td>1</td>\n",
       "    </tr>\n",
       "    <tr>\n",
       "      <th>Grocery</th>\n",
       "      <td>0</td>\n",
       "      <td>0</td>\n",
       "      <td>0</td>\n",
       "      <td>54</td>\n",
       "      <td>0</td>\n",
       "      <td>0</td>\n",
       "      <td>0</td>\n",
       "      <td>0</td>\n",
       "      <td>0</td>\n",
       "      <td>0</td>\n",
       "      <td>0</td>\n",
       "      <td>0</td>\n",
       "      <td>0</td>\n",
       "      <td>0</td>\n",
       "    </tr>\n",
       "    <tr>\n",
       "      <th>Healthcare</th>\n",
       "      <td>0</td>\n",
       "      <td>0</td>\n",
       "      <td>6</td>\n",
       "      <td>0</td>\n",
       "      <td>2</td>\n",
       "      <td>0</td>\n",
       "      <td>0</td>\n",
       "      <td>0</td>\n",
       "      <td>0</td>\n",
       "      <td>0</td>\n",
       "      <td>1</td>\n",
       "      <td>0</td>\n",
       "      <td>0</td>\n",
       "      <td>0</td>\n",
       "    </tr>\n",
       "    <tr>\n",
       "      <th>Interest</th>\n",
       "      <td>0</td>\n",
       "      <td>0</td>\n",
       "      <td>0</td>\n",
       "      <td>0</td>\n",
       "      <td>0</td>\n",
       "      <td>36</td>\n",
       "      <td>0</td>\n",
       "      <td>0</td>\n",
       "      <td>0</td>\n",
       "      <td>0</td>\n",
       "      <td>0</td>\n",
       "      <td>0</td>\n",
       "      <td>0</td>\n",
       "      <td>0</td>\n",
       "    </tr>\n",
       "    <tr>\n",
       "      <th>Payment</th>\n",
       "      <td>0</td>\n",
       "      <td>0</td>\n",
       "      <td>0</td>\n",
       "      <td>0</td>\n",
       "      <td>0</td>\n",
       "      <td>0</td>\n",
       "      <td>80</td>\n",
       "      <td>0</td>\n",
       "      <td>0</td>\n",
       "      <td>0</td>\n",
       "      <td>0</td>\n",
       "      <td>0</td>\n",
       "      <td>0</td>\n",
       "      <td>0</td>\n",
       "    </tr>\n",
       "    <tr>\n",
       "      <th>Payroll</th>\n",
       "      <td>0</td>\n",
       "      <td>0</td>\n",
       "      <td>0</td>\n",
       "      <td>0</td>\n",
       "      <td>0</td>\n",
       "      <td>0</td>\n",
       "      <td>0</td>\n",
       "      <td>75</td>\n",
       "      <td>0</td>\n",
       "      <td>0</td>\n",
       "      <td>0</td>\n",
       "      <td>0</td>\n",
       "      <td>0</td>\n",
       "      <td>0</td>\n",
       "    </tr>\n",
       "    <tr>\n",
       "      <th>Recreation</th>\n",
       "      <td>0</td>\n",
       "      <td>0</td>\n",
       "      <td>6</td>\n",
       "      <td>0</td>\n",
       "      <td>0</td>\n",
       "      <td>0</td>\n",
       "      <td>0</td>\n",
       "      <td>0</td>\n",
       "      <td>0</td>\n",
       "      <td>0</td>\n",
       "      <td>2</td>\n",
       "      <td>0</td>\n",
       "      <td>0</td>\n",
       "      <td>1</td>\n",
       "    </tr>\n",
       "    <tr>\n",
       "      <th>Service</th>\n",
       "      <td>0</td>\n",
       "      <td>0</td>\n",
       "      <td>5</td>\n",
       "      <td>0</td>\n",
       "      <td>0</td>\n",
       "      <td>0</td>\n",
       "      <td>3</td>\n",
       "      <td>0</td>\n",
       "      <td>0</td>\n",
       "      <td>34</td>\n",
       "      <td>0</td>\n",
       "      <td>0</td>\n",
       "      <td>0</td>\n",
       "      <td>0</td>\n",
       "    </tr>\n",
       "    <tr>\n",
       "      <th>Shops</th>\n",
       "      <td>0</td>\n",
       "      <td>0</td>\n",
       "      <td>18</td>\n",
       "      <td>0</td>\n",
       "      <td>0</td>\n",
       "      <td>0</td>\n",
       "      <td>0</td>\n",
       "      <td>0</td>\n",
       "      <td>0</td>\n",
       "      <td>1</td>\n",
       "      <td>87</td>\n",
       "      <td>0</td>\n",
       "      <td>1</td>\n",
       "      <td>0</td>\n",
       "    </tr>\n",
       "    <tr>\n",
       "      <th>Tax</th>\n",
       "      <td>0</td>\n",
       "      <td>0</td>\n",
       "      <td>0</td>\n",
       "      <td>0</td>\n",
       "      <td>0</td>\n",
       "      <td>0</td>\n",
       "      <td>0</td>\n",
       "      <td>0</td>\n",
       "      <td>0</td>\n",
       "      <td>1</td>\n",
       "      <td>0</td>\n",
       "      <td>0</td>\n",
       "      <td>0</td>\n",
       "      <td>0</td>\n",
       "    </tr>\n",
       "    <tr>\n",
       "      <th>Transfer</th>\n",
       "      <td>0</td>\n",
       "      <td>0</td>\n",
       "      <td>3</td>\n",
       "      <td>0</td>\n",
       "      <td>0</td>\n",
       "      <td>0</td>\n",
       "      <td>0</td>\n",
       "      <td>0</td>\n",
       "      <td>0</td>\n",
       "      <td>0</td>\n",
       "      <td>0</td>\n",
       "      <td>0</td>\n",
       "      <td>92</td>\n",
       "      <td>0</td>\n",
       "    </tr>\n",
       "    <tr>\n",
       "      <th>Travel</th>\n",
       "      <td>0</td>\n",
       "      <td>0</td>\n",
       "      <td>11</td>\n",
       "      <td>0</td>\n",
       "      <td>0</td>\n",
       "      <td>0</td>\n",
       "      <td>0</td>\n",
       "      <td>0</td>\n",
       "      <td>0</td>\n",
       "      <td>0</td>\n",
       "      <td>2</td>\n",
       "      <td>0</td>\n",
       "      <td>0</td>\n",
       "      <td>41</td>\n",
       "    </tr>\n",
       "  </tbody>\n",
       "</table>\n",
       "</div>"
      ],
      "text/plain": [
       "predicted_category  Bank Fees  Education  Food and Drink  Grocery  Healthcare  \\\n",
       "category                                                                        \n",
       "Bank Fees                   0          0               1        0           0   \n",
       "Education                   0         13               1        0           0   \n",
       "Food and Drink              0          0             201        0           0   \n",
       "Grocery                     0          0               0       54           0   \n",
       "Healthcare                  0          0               6        0           2   \n",
       "Interest                    0          0               0        0           0   \n",
       "Payment                     0          0               0        0           0   \n",
       "Payroll                     0          0               0        0           0   \n",
       "Recreation                  0          0               6        0           0   \n",
       "Service                     0          0               5        0           0   \n",
       "Shops                       0          0              18        0           0   \n",
       "Tax                         0          0               0        0           0   \n",
       "Transfer                    0          0               3        0           0   \n",
       "Travel                      0          0              11        0           0   \n",
       "\n",
       "predicted_category  Interest  Payment  Payroll  Recreation  Service  Shops  \\\n",
       "category                                                                     \n",
       "Bank Fees                  0        0        0           0        0      0   \n",
       "Education                  0        0        0           0        0      2   \n",
       "Food and Drink             0        0        0           0        1      1   \n",
       "Grocery                    0        0        0           0        0      0   \n",
       "Healthcare                 0        0        0           0        0      1   \n",
       "Interest                  36        0        0           0        0      0   \n",
       "Payment                    0       80        0           0        0      0   \n",
       "Payroll                    0        0       75           0        0      0   \n",
       "Recreation                 0        0        0           0        0      2   \n",
       "Service                    0        3        0           0       34      0   \n",
       "Shops                      0        0        0           0        1     87   \n",
       "Tax                        0        0        0           0        1      0   \n",
       "Transfer                   0        0        0           0        0      0   \n",
       "Travel                     0        0        0           0        0      2   \n",
       "\n",
       "predicted_category  Tax  Transfer  Travel  \n",
       "category                                   \n",
       "Bank Fees             0         0       0  \n",
       "Education             0         0       1  \n",
       "Food and Drink        0         0       1  \n",
       "Grocery               0         0       0  \n",
       "Healthcare            0         0       0  \n",
       "Interest              0         0       0  \n",
       "Payment               0         0       0  \n",
       "Payroll               0         0       0  \n",
       "Recreation            0         0       1  \n",
       "Service               0         0       0  \n",
       "Shops                 0         1       0  \n",
       "Tax                   0         0       0  \n",
       "Transfer              0        92       0  \n",
       "Travel                0         0      41  "
      ]
     },
     "execution_count": 190,
     "metadata": {},
     "output_type": "execute_result"
    }
   ],
   "source": [
    "summary_tbl = pd.pivot_table(test, values ='_id', index='category',columns='predicted_category', aggfunc='count', fill_value=0)\n",
    "summary_tbl.insert(0, column = 'Bank Fees', value = 0)\n",
    "summary_tbl.insert(8, column = 'Recreation', value = 0)\n",
    "summary_tbl.insert(11, column = 'Tax', value = 0)\n",
    "summary_tbl"
   ]
  },
  {
   "cell_type": "code",
   "execution_count": 189,
   "metadata": {},
   "outputs": [
    {
     "data": {
      "text/plain": [
       "<matplotlib.text.Text at 0x1f7b0b00>"
      ]
     },
     "execution_count": 189,
     "metadata": {},
     "output_type": "execute_result"
    },
    {
     "data": {
      "image/png": "[encoded data removed]",
      "text/plain": [
       "<matplotlib.figure.Figure at 0x1f5bcc18>"
      ]
     },
     "metadata": {},
     "output_type": "display_data"
    }
   ],
   "source": [
    "fig = plt.figure(figsize=(10.5,9))\n",
    "r = sns.heatmap(np.sqrt(summary_tbl), linewidths=.5)\n",
    "r.set_title(\"Heatmap of true category vs predicted category\")"
   ]
  },
  {
   "cell_type": "markdown",
   "metadata": {},
   "source": [
    "The model does a very good job to classify 'Interest','Payment','Payroll','Grocery' and 'Transfer' transactions. For 'Bank Fees' and 'Tax' transactions, the model seems have some difficulties to make the right decision, which is understandable given that we really don't have much available data in these two classes to train the model (see last section for more details). The model is doing a fine job to label 'Education','Service','Shops'and 'Travel', with missclassification mainly scattered in other categories, mainly in 'Food and Drink'. Also note the it did very bad in 'Recreation', unfortunately, none the 'Recreation' transactions are classified correctly."
   ]
  },
  {
   "cell_type": "markdown",
   "metadata": {},
   "source": [
    "**Precision and Recall**"
   ]
  },
  {
   "cell_type": "code",
   "execution_count": null,
   "metadata": {
    "collapsed": true
   },
   "outputs": [],
   "source": []
  }
 ],
 "metadata": {
  "kernelspec": {
   "display_name": "Python 2",
   "language": "python",
   "name": "python2"
  },
  "language_info": {
   "codemirror_mode": {
    "name": "ipython",
    "version": 2
   },
   "file_extension": ".py",
   "mimetype": "text/x-python",
   "name": "python",
   "nbconvert_exporter": "python",
   "pygments_lexer": "ipython2",
   "version": "2.7.13"
  }
 },
 "nbformat": 4,
 "nbformat_minor": 2
}
